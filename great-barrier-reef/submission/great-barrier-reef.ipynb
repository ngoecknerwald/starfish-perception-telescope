{
 "cells": [
  {
   "cell_type": "raw",
   "metadata": {
    "_cell_guid": "b1076dfc-b9ad-4769-8c92-a6c4dae69d19",
    "_uuid": "8f2839f25d086af736a60e9eeb907d3b93b6e0e5"
   },
   "source": [
    "This cell is Markdown, and doesn't do anything. Put random notes here.\n",
    "\n",
    "We don't need to download the dataset from the internet, we connect \n",
    "it with the control panel at the upper RHS of the interface under the \"+ Add data\"\n",
    "button. I've put a \"make a dataset archive.zip\" utility in the github repo.\n",
    "\n",
    "I named mine 'pretrained-master-nongraph' and added the trained RPN and classifier weights."
   ]
  },
  {
   "cell_type": "code",
   "execution_count": 1,
   "metadata": {
    "execution": {
     "iopub.execute_input": "2022-01-31T06:02:23.126350Z",
     "iopub.status.busy": "2022-01-31T06:02:23.126034Z",
     "iopub.status.idle": "2022-01-31T06:02:24.462720Z",
     "shell.execute_reply": "2022-01-31T06:02:24.461903Z",
     "shell.execute_reply.started": "2022-01-31T06:02:23.126273Z"
    }
   },
   "outputs": [],
   "source": [
    "# Make sure the dataset is connected, Kaggle only\n",
    "\n",
    "!ls -la ../input/tensorflow-great-barrier-reef\n",
    "!ls -ls ../input/pretrained-master-nongraph"
   ]
  },
  {
   "cell_type": "code",
   "execution_count": 2,
   "metadata": {
    "execution": {
     "iopub.execute_input": "2022-01-31T06:02:24.466623Z",
     "iopub.status.busy": "2022-01-31T06:02:24.466383Z",
     "iopub.status.idle": "2022-01-31T06:02:25.798353Z",
     "shell.execute_reply": "2022-01-31T06:02:25.797478Z",
     "shell.execute_reply.started": "2022-01-31T06:02:24.466594Z"
    }
   },
   "outputs": [],
   "source": [
    "# Pull in python files, Kaggle only\n",
    "\n",
    "!rsync -v ../input/pretrained-master-nongraph/*.py .\n",
    "!ls -la ."
   ]
  },
  {
   "cell_type": "code",
   "execution_count": 3,
   "metadata": {
    "execution": {
     "iopub.execute_input": "2022-01-31T06:02:25.802329Z",
     "iopub.status.busy": "2022-01-31T06:02:25.801859Z",
     "iopub.status.idle": "2022-01-31T06:02:25.809104Z",
     "shell.execute_reply": "2022-01-31T06:02:25.806929Z",
     "shell.execute_reply.started": "2022-01-31T06:02:25.802297Z"
    }
   },
   "outputs": [],
   "source": [
    "# Dummy class to quickly debug the Kaggle interface for our code\n",
    "\n",
    "class DummyModel():\n",
    "    def __init__(self):\n",
    "        self.outstring = \"0.5 0 0 0 0\"\n",
    "\n",
    "    def predict(self, minibatch):\n",
    "        print(minibatch.shape)\n",
    "        return self.outstring"
   ]
  },
  {
   "cell_type": "code",
   "execution_count": 4,
   "metadata": {
    "execution": {
     "iopub.execute_input": "2022-01-31T06:02:25.811758Z",
     "iopub.status.busy": "2022-01-31T06:02:25.811162Z",
     "iopub.status.idle": "2022-01-31T06:02:46.552757Z",
     "shell.execute_reply": "2022-01-31T06:02:46.551994Z",
     "shell.execute_reply.started": "2022-01-31T06:02:25.811721Z"
    }
   },
   "outputs": [],
   "source": [
    "import os, faster_rcnn\n",
    "import tensorflow as tf\n",
    "\n",
    "backbone_weights='../input/pretrained-master-nongraph/trained_backbone.ckpt'\n",
    "rpn_weights='../input/pretrained-master-nongraph/trained_rpn.ckpt'\n",
    "classifier_weights='../input/pretrained-master-nongraph/trained_classifier.ckpt'\n",
    "\n",
    "frcnn = faster_rcnn.FasterRCNNWrapper(\n",
    "    input_shape=(720, 1280, 3),\n",
    "    datapath='../input/tensorflow-great-barrier-reef',\n",
    "    backbone_type='ResNet50',\n",
    "    backbone_weights=backbone_weights if os.path.exists(backbone_weights) else 'finetune',\n",
    "    rpn_weights=rpn_weights if os.path.exists(rpn_weights) else None,\n",
    "    classifier_weights=classifier_weights if os.path.exists(classifier_weights) else None\n",
    ")\n",
    "\n",
    "# Either instantiate the dummy or real model\n",
    "#frcnn = DummyModel()"
   ]
  },
  {
   "cell_type": "code",
   "execution_count": 5,
   "metadata": {
    "execution": {
     "iopub.execute_input": "2022-01-31T06:02:46.554763Z",
     "iopub.status.busy": "2022-01-31T06:02:46.554523Z",
     "iopub.status.idle": "2022-01-31T06:02:54.516253Z",
     "shell.execute_reply": "2022-01-31T06:02:54.515533Z",
     "shell.execute_reply.started": "2022-01-31T06:02:46.554730Z"
    }
   },
   "outputs": [],
   "source": [
    "# Actual submission call\n",
    "import greatbarrierreef\n",
    "\n",
    "env = greatbarrierreef.make_env()\n",
    "iter_test = env.iter_test()\n",
    "\n",
    "for (pixel_array, prediction_df) in iter_test:\n",
    "    prediction_df['annotations'] = frcnn.predict(pixel_array[tf.newaxis,:,:,:])\n",
    "    env.predict(prediction_df)"
   ]
  },
  {
   "cell_type": "code",
   "execution_count": 6,
   "metadata": {
    "execution": {
     "iopub.execute_input": "2022-01-31T06:02:54.517925Z",
     "iopub.status.busy": "2022-01-31T06:02:54.517670Z",
     "iopub.status.idle": "2022-01-31T06:02:55.219935Z",
     "shell.execute_reply": "2022-01-31T06:02:55.219076Z",
     "shell.execute_reply.started": "2022-01-31T06:02:54.517888Z"
    }
   },
   "outputs": [],
   "source": [
    "!cat submission.csv"
   ]
  }
 ],
 "metadata": {
  "kernelspec": {
   "display_name": "Python 3 (ipykernel)",
   "language": "python",
   "name": "python3"
  },
  "language_info": {
   "codemirror_mode": {
    "name": "ipython",
    "version": 3
   },
   "file_extension": ".py",
   "mimetype": "text/x-python",
   "name": "python",
   "nbconvert_exporter": "python",
   "pygments_lexer": "ipython3",
   "version": "3.8.9"
  }
 },
 "nbformat": 4,
 "nbformat_minor": 4
}
