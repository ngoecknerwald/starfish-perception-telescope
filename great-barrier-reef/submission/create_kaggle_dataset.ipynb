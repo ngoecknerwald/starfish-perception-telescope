{
 "cells": [
  {
   "cell_type": "code",
   "execution_count": null,
   "id": "46a1515f",
   "metadata": {},
   "outputs": [],
   "source": [
    "# Collect a list of python files to compress\n",
    "\n",
    "import os, glob"
   ]
  },
  {
   "cell_type": "code",
   "execution_count": null,
   "id": "43bd4b35",
   "metadata": {},
   "outputs": [],
   "source": [
    "code_files = sorted(glob.glob('*.py'))\n",
    "checkpoint_files = sorted(glob.glob('trained*.ckpt'))\n",
    "print(code_files + checkpoint_files)"
   ]
  },
  {
   "cell_type": "code",
   "execution_count": null,
   "id": "3e536209",
   "metadata": {},
   "outputs": [],
   "source": [
    "status = os.system('zip -du -r archive.zip ' + ' '.join(code_files + checkpoint_files))\n",
    "if status == 0:\n",
    "    print('Successfully created archive.zip')"
   ]
  },
  {
   "cell_type": "code",
   "execution_count": null,
   "id": "48142c8c",
   "metadata": {},
   "outputs": [],
   "source": []
  }
 ],
 "metadata": {
  "kernelspec": {
   "display_name": "Python 3 (ipykernel)",
   "language": "python",
   "name": "python3"
  },
  "language_info": {
   "codemirror_mode": {
    "name": "ipython",
    "version": 3
   },
   "file_extension": ".py",
   "mimetype": "text/x-python",
   "name": "python",
   "nbconvert_exporter": "python",
   "pygments_lexer": "ipython3",
   "version": "3.8.9"
  }
 },
 "nbformat": 4,
 "nbformat_minor": 5
}
