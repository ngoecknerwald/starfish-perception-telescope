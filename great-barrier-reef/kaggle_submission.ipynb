{
 "cells": [
  {
   "cell_type": "markdown",
   "id": "f89227e8",
   "metadata": {},
   "source": [
    "This cell is Markdown, and doesn't do anything. Put random notes here.\n",
    "\n",
    "We don't need to download the dataset from the internet, we connect \n",
    "it with the control panel at the upper RHS of the interface under the \"+ Add data\"\n",
    "button."
   ]
  },
  {
   "cell_type": "code",
   "execution_count": null,
   "id": "62468569",
   "metadata": {},
   "outputs": [],
   "source": [
    "# Make sure the dataset is connected\n",
    "!ls -la ../input/tensorflow-great-barrier-reef/"
   ]
  },
  {
   "cell_type": "code",
   "execution_count": null,
   "id": "1ad95688",
   "metadata": {},
   "outputs": [],
   "source": []
  },
  {
   "cell_type": "code",
   "execution_count": null,
   "id": "390b2f88",
   "metadata": {},
   "outputs": [],
   "source": []
  },
  {
   "cell_type": "code",
   "execution_count": null,
   "id": "b276faa0",
   "metadata": {},
   "outputs": [],
   "source": []
  }
 ],
 "metadata": {
  "kernelspec": {
   "display_name": "Python 3 (ipykernel)",
   "language": "python",
   "name": "python3"
  },
  "language_info": {
   "codemirror_mode": {
    "name": "ipython",
    "version": 3
   },
   "file_extension": ".py",
   "mimetype": "text/x-python",
   "name": "python",
   "nbconvert_exporter": "python",
   "pygments_lexer": "ipython3",
   "version": "3.8.9"
  }
 },
 "nbformat": 4,
 "nbformat_minor": 5
}
