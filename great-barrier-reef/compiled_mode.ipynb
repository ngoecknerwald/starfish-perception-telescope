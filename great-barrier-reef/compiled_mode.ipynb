{
 "cells": [
  {
   "cell_type": "code",
   "execution_count": 85,
   "id": "28a61794",
   "metadata": {},
   "outputs": [],
   "source": [
    "# Boilerplate\n",
    "import tensorflow as tf\n",
    "from importlib import reload\n",
    "\n",
    "import backbone\n",
    "import classifier\n",
    "import data_utils\n",
    "import faster_rcnn\n",
    "import rpn\n",
    "import roi_pooling\n",
    "import geometry"
   ]
  },
  {
   "cell_type": "code",
   "execution_count": 86,
   "id": "18c04e4a",
   "metadata": {},
   "outputs": [
    {
     "name": "stdout",
     "output_type": "stream",
     "text": [
      "Python interpreter in DataLoader.decode_label()\n",
      "<tf.RaggedTensor []>\n",
      "<tf.RaggedTensor [[535.0, 444.0, 127.0, 113.0]]>\n",
      "<tf.RaggedTensor [[539.0, 205.0, 105.0, 98.0], [630.0, 351.0, 95.0, 56.0]]>\n"
     ]
    }
   ],
   "source": [
    "# Test the data loading class\n",
    "reload(data_utils)\n",
    "d = data_utils.DataLoaderFull()\n",
    "print(d.decode_label(tf.constant(0)))\n",
    "print(d.decode_label(tf.constant(60)))\n",
    "print(d.decode_label(tf.constant(50)))"
   ]
  },
  {
   "cell_type": "code",
   "execution_count": 89,
   "id": "4f66e905",
   "metadata": {},
   "outputs": [
    {
     "name": "stdout",
     "output_type": "stream",
     "text": [
      "(4, 23, 40, 2048)\n"
     ]
    }
   ],
   "source": [
    "# Test the backbone\n",
    "reload(backbone)\n",
    "spine = backbone.instantiate('resnet50', {})\n",
    "features = spine(tf.random.normal((4, 720, 1280, 3)))\n",
    "print(features.shape)"
   ]
  },
  {
   "cell_type": "code",
   "execution_count": 90,
   "id": "184a9db8",
   "metadata": {},
   "outputs": [],
   "source": [
    "# Test the RPN\n",
    "reload(rpn)\n",
    "rpnwrap=rpn.RPNWrapper(spine)"
   ]
  },
  {
   "cell_type": "code",
   "execution_count": null,
   "id": "0fa05659",
   "metadata": {},
   "outputs": [],
   "source": []
  },
  {
   "cell_type": "code",
   "execution_count": null,
   "id": "5bf2ffae",
   "metadata": {},
   "outputs": [],
   "source": []
  },
  {
   "cell_type": "code",
   "execution_count": null,
   "id": "4b81b254",
   "metadata": {},
   "outputs": [],
   "source": []
  }
 ],
 "metadata": {
  "kernelspec": {
   "display_name": "Python 3 (ipykernel)",
   "language": "python",
   "name": "python3"
  },
  "language_info": {
   "codemirror_mode": {
    "name": "ipython",
    "version": 3
   },
   "file_extension": ".py",
   "mimetype": "text/x-python",
   "name": "python",
   "nbconvert_exporter": "python",
   "pygments_lexer": "ipython3",
   "version": "3.8.9"
  }
 },
 "nbformat": 4,
 "nbformat_minor": 5
}
