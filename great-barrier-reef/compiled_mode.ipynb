{
 "cells": [
  {
   "cell_type": "code",
   "execution_count": 31,
   "id": "28a61794",
   "metadata": {},
   "outputs": [],
   "source": [
    "# Boilerplate\n",
    "import tensorflow as tf\n",
    "from importlib import reload\n",
    "\n",
    "import backbone\n",
    "import classifier\n",
    "import data_utils\n",
    "import faster_rcnn\n",
    "import rpn\n",
    "import roi_pooling\n",
    "import geometry"
   ]
  },
  {
   "cell_type": "code",
   "execution_count": 61,
   "id": "18c04e4a",
   "metadata": {},
   "outputs": [
    {
     "name": "stdout",
     "output_type": "stream",
     "text": [
      "Python interpreter in DataLoader.decode_label()\n",
      "<tf.RaggedTensor []>\n",
      "<tf.RaggedTensor [[535.0, 444.0, 127.0, 113.0]]>\n",
      "<tf.RaggedTensor [[539.0, 205.0, 105.0, 98.0], [630.0, 351.0, 95.0, 56.0]]>\n"
     ]
    }
   ],
   "source": [
    "reload(data_utils)\n",
    "d = data_utils.DataLoaderFull()\n",
    "print(d.decode_label(tf.constant(0)))\n",
    "print(d.decode_label(tf.constant(60)))\n",
    "print(d.decode_label(tf.constant(50)))"
   ]
  },
  {
   "cell_type": "code",
   "execution_count": 72,
   "id": "184a9db8",
   "metadata": {},
   "outputs": [
    {
     "name": "stdout",
     "output_type": "stream",
     "text": [
      "(23, 40)\n",
      "(23, 40)\n",
      "(4,)\n",
      "(4,)\n",
      "(23, 40, 4)\n"
     ]
    }
   ],
   "source": [
    "reload(rpn)\n",
    "reload(geometry)\n",
    "spine=backbone.instantiate('resnet50', {})\n",
    "rpnwrap=rpn.RPNWrapper(spine)\n",
    "print(rpnwrap.anchor_xx.shape)\n",
    "print(rpnwrap.anchor_yy.shape)\n",
    "print(rpnwrap.hh.shape)\n",
    "print(rpnwrap.ww.shape)\n",
    "print(rpnwrap.valid_mask.shape)"
   ]
  },
  {
   "cell_type": "code",
   "execution_count": 73,
   "id": "0fa05659",
   "metadata": {},
   "outputs": [
    {
     "name": "stdout",
     "output_type": "stream",
     "text": [
      "Python interpreter in rpnwrapper.ground_truth_IoU\n",
      "Python interpreter in backbone.feature_coords_to_image_coords()\n",
      "tf.Tensor([], shape=(0,), dtype=float32)\n",
      "Python interpreter in rpnwrapper.ground_truth_IoU\n",
      "Python interpreter in geometry.calculate_Iou()\n",
      "tf.Tensor([0.], shape=(1,), dtype=float32)\n",
      "Python interpreter in rpnwrapper.ground_truth_IoU\n",
      "tf.Tensor([0. 0.], shape=(2,), dtype=float32)\n",
      "tf.Tensor([0. 0.], shape=(2,), dtype=float32)\n"
     ]
    }
   ],
   "source": [
    "xx = tf.constant(10.)\n",
    "yy = tf.constant(12.)\n",
    "ww = tf.constant(4.)\n",
    "hh = tf.constant(2.)\n",
    "\n",
    "print(rpnwrap.ground_truth_IoU(d.decode_label(tf.constant(0)), xx, yy, ww, hh))\n",
    "print(rpnwrap.ground_truth_IoU(d.decode_label(tf.constant(60)), xx, yy, ww, hh))\n",
    "print(rpnwrap.ground_truth_IoU(d.decode_label(tf.constant(50)), xx, yy, ww, hh))\n",
    "print(rpnwrap.ground_truth_IoU(d.decode_label(tf.constant(51)), xx, yy, ww, hh))"
   ]
  },
  {
   "cell_type": "code",
   "execution_count": null,
   "id": "5bf2ffae",
   "metadata": {},
   "outputs": [],
   "source": []
  }
 ],
 "metadata": {
  "kernelspec": {
   "display_name": "Python 3 (ipykernel)",
   "language": "python",
   "name": "python3"
  },
  "language_info": {
   "codemirror_mode": {
    "name": "ipython",
    "version": 3
   },
   "file_extension": ".py",
   "mimetype": "text/x-python",
   "name": "python",
   "nbconvert_exporter": "python",
   "pygments_lexer": "ipython3",
   "version": "3.8.9"
  }
 },
 "nbformat": 4,
 "nbformat_minor": 5
}
