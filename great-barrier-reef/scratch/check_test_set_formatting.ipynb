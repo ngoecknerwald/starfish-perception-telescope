{
 "cells": [
  {
   "cell_type": "code",
   "execution_count": null,
   "id": "5f4558f9",
   "metadata": {},
   "outputs": [],
   "source": [
    "# Look at the sample test data and make sure the batching is the way we expect\n",
    "\n",
    "import numpy as np\n",
    "testdata = np.load('tensorflow-great-barrier-reef/example_test.npy')"
   ]
  },
  {
   "cell_type": "code",
   "execution_count": null,
   "id": "c3df7cea",
   "metadata": {},
   "outputs": [],
   "source": [
    "from data_utils import DataLoaderFull\n",
    "training = DataLoaderFull().get_training()\n",
    "traindata = training.__iter__().next()[0]"
   ]
  },
  {
   "cell_type": "code",
   "execution_count": null,
   "id": "f1c99f76",
   "metadata": {},
   "outputs": [],
   "source": [
    "# Check array size and data types\n",
    "print(testdata.shape)\n",
    "print(testdata[0,0,0,0])\n",
    "print(traindata.shape)\n",
    "print(traindata[0,0,0,0])"
   ]
  },
  {
   "cell_type": "code",
   "execution_count": null,
   "id": "1f6386d8",
   "metadata": {},
   "outputs": [],
   "source": [
    "#Check RGB versus BGR\n",
    "from matplotlib.pyplot import *\n",
    "figure()\n",
    "imshow(testdata[0,:,:,:])\n",
    "title('First row of the test set')\n",
    "\n",
    "figure()\n",
    "imshow(traindata[0,:,:,:].numpy().astype(int))\n",
    "title('Row of the training set')"
   ]
  },
  {
   "cell_type": "code",
   "execution_count": null,
   "id": "0ab87a1f",
   "metadata": {},
   "outputs": [],
   "source": [
    "# Check 0-1 versus 0-255\n",
    "print(np.ptp(testdata))\n",
    "print(np.ptp(traindata.numpy()))"
   ]
  },
  {
   "cell_type": "code",
   "execution_count": null,
   "id": "fa502020",
   "metadata": {},
   "outputs": [],
   "source": []
  }
 ],
 "metadata": {
  "kernelspec": {
   "display_name": "Python 3 (ipykernel)",
   "language": "python",
   "name": "python3"
  },
  "language_info": {
   "codemirror_mode": {
    "name": "ipython",
    "version": 3
   },
   "file_extension": ".py",
   "mimetype": "text/x-python",
   "name": "python",
   "nbconvert_exporter": "python",
   "pygments_lexer": "ipython3",
   "version": "3.8.9"
  }
 },
 "nbformat": 4,
 "nbformat_minor": 5
}
