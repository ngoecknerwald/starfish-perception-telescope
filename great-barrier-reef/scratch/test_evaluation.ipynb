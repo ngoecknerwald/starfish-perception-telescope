{
 "cells": [
  {
   "cell_type": "code",
   "execution_count": null,
   "id": "a63ba099",
   "metadata": {},
   "outputs": [],
   "source": [
    "# Boilerplate\n",
    "import sys\n",
    "import numpy as np\n",
    "import tensorflow as tf\n",
    "import matplotlib\n",
    "from matplotlib.pyplot import figure, imshow, gca, tight_layout, show\n",
    "from matplotlib import patches\n",
    "from importlib import reload\n",
    "import os\n",
    "\n",
    "if 'roi_pooling' not in sys.modules:\n",
    "    import backbone\n",
    "    import classifier\n",
    "    import data_utils\n",
    "    import faster_rcnn\n",
    "    import rpn\n",
    "    import roi_pooling\n",
    "    import geometry\n",
    "    import evaluation\n",
    "else:\n",
    "    reload(backbone)\n",
    "    reload(classifier)\n",
    "    reload(data_utils)\n",
    "    reload(faster_rcnn)\n",
    "    reload(rpn)\n",
    "    reload(roi_pooling)\n",
    "    reload(geometry)\n",
    "    reload(evaluation)"
   ]
  },
  {
   "cell_type": "code",
   "execution_count": null,
   "id": "9b936815",
   "metadata": {},
   "outputs": [],
   "source": [
    "# List physical devices\n",
    "is_colab = len(tf.config.list_physical_devices('GPU')) > 0\n",
    "\n",
    "# Data locations\n",
    "if is_colab:\n",
    "    datapath='/content'\n",
    "    backbone_weights='drive/MyDrive/trained_backbone.ckpt'\n",
    "    rpn_weights='drive/MyDrive/trained_rpn.ckpt'\n",
    "    class_weights='drive/MyDrive/trained_classifier.ckpt'\n",
    "else:\n",
    "    datapath='tensorflow-great-barrier-reef'\n",
    "    backbone_weights='trained_backbone.ckpt'\n",
    "    rpn_weights='trained_rpn.ckpt'\n",
    "    class_weights='trained_classifier.ckpt'"
   ]
  },
  {
   "cell_type": "code",
   "execution_count": null,
   "id": "53d96fc2",
   "metadata": {},
   "outputs": [],
   "source": [
    "# Instantiate the high-level wrapper\n",
    "frcnn = faster_rcnn.FasterRCNNWrapper(\n",
    "    input_shape=(720, 1280, 3),\n",
    "    datapath=datapath,\n",
    "    backbone_type='ResNet50',\n",
    "    backbone_weights=backbone_weights if os.path.exists(backbone_weights) else 'finetune',\n",
    "    rpn_weights=rpn_weights if os.path.exists(rpn_weights) else None,\n",
    "    classifier_weights=class_weights if os.path.exists(class_weights) else None\n",
    ")"
   ]
  },
  {
   "cell_type": "code",
   "execution_count": null,
   "id": "dbf8b1a1",
   "metadata": {},
   "outputs": [],
   "source": [
    "training=frcnn.data_loader_full.get_training().__iter__()\n",
    "x, y_true = training.next()\n",
    "print(x.shape)\n",
    "print(y_true)"
   ]
  },
  {
   "cell_type": "code",
   "execution_count": null,
   "id": "2ed5898c",
   "metadata": {},
   "outputs": [],
   "source": [
    "features = frcnn.backbone(x)\n",
    "y_pred = frcnn.rpnwrapper.rpnmodel(features)\n",
    "print(y_pred.shape)"
   ]
  },
  {
   "cell_type": "code",
   "execution_count": null,
   "id": "6cc857d7",
   "metadata": {},
   "outputs": [],
   "source": [
    "reload(evaluation)\n",
    "metric = evaluation.TopNRegionsF2(20, frcnn.data_loader_full.decode_label)\n",
    "metric.update_state(y_true, y_pred)"
   ]
  },
  {
   "cell_type": "code",
   "execution_count": null,
   "id": "afc3de73",
   "metadata": {},
   "outputs": [],
   "source": [
    "metric.result()"
   ]
  },
  {
   "cell_type": "code",
   "execution_count": null,
   "id": "5756b250",
   "metadata": {},
   "outputs": [],
   "source": []
  }
 ],
 "metadata": {
  "kernelspec": {
   "display_name": "Python 3 (ipykernel)",
   "language": "python",
   "name": "python3"
  },
  "language_info": {
   "codemirror_mode": {
    "name": "ipython",
    "version": 3
   },
   "file_extension": ".py",
   "mimetype": "text/x-python",
   "name": "python",
   "nbconvert_exporter": "python",
   "pygments_lexer": "ipython3",
   "version": "3.8.9"
  }
 },
 "nbformat": 4,
 "nbformat_minor": 5
}
