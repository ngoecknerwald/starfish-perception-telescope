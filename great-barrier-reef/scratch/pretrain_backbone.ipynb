{
 "cells": [
  {
   "cell_type": "code",
   "execution_count": 1,
   "metadata": {
    "executionInfo": {
     "elapsed": 8430,
     "status": "ok",
     "timestamp": 1640308910508,
     "user": {
      "displayName": "sam guns",
      "photoUrl": "https://lh3.googleusercontent.com/a/default-user=s64",
      "userId": "14723531333621374346"
     },
     "user_tz": 480
    },
    "id": "tg65cBzEzzC3"
   },
   "outputs": [],
   "source": [
    "import numpy as np\n",
    "%matplotlib inline\n",
    "from matplotlib.pyplot import *\n",
    "import tensorflow as tf\n",
    "from importlib import reload\n",
    "import sys\n"
   ]
  },
  {
   "cell_type": "code",
   "execution_count": 2,
   "metadata": {
    "colab": {
     "base_uri": "https://localhost:8080/"
    },
    "executionInfo": {
     "elapsed": 176,
     "status": "ok",
     "timestamp": 1640308912180,
     "user": {
      "displayName": "sam guns",
      "photoUrl": "https://lh3.googleusercontent.com/a/default-user=s64",
      "userId": "14723531333621374346"
     },
     "user_tz": 480
    },
    "id": "xXEFt0T4hJ6i",
    "outputId": "589604d9-511f-4cc1-d864-9bfac522b7d7"
   },
   "outputs": [
    {
     "data": {
      "text/plain": [
       "[]"
      ]
     },
     "execution_count": 2,
     "metadata": {},
     "output_type": "execute_result"
    }
   ],
   "source": [
    "tf.config.list_physical_devices('GPU')"
   ]
  },
  {
   "cell_type": "code",
   "execution_count": 3,
   "metadata": {
    "colab": {
     "base_uri": "https://localhost:8080/"
    },
    "executionInfo": {
     "elapsed": 16008,
     "status": "ok",
     "timestamp": 1640308929563,
     "user": {
      "displayName": "sam guns",
      "photoUrl": "https://lh3.googleusercontent.com/a/default-user=s64",
      "userId": "14723531333621374346"
     },
     "user_tz": 480
    },
    "id": "NaonOX-C1R65",
    "outputId": "1f96b318-96f6-44be-e68b-ecb6e3a5f5d3"
   },
   "outputs": [
    {
     "name": "stdout",
     "output_type": "stream",
     "text": [
      "Mounted at /content/drive\n"
     ]
    }
   ],
   "source": [
    "from google.colab import drive\n",
    "drive.mount('/content/drive')"
   ]
  },
  {
   "cell_type": "code",
   "execution_count": 18,
   "metadata": {
    "colab": {
     "base_uri": "https://localhost:8080/"
    },
    "executionInfo": {
     "elapsed": 171,
     "status": "ok",
     "timestamp": 1640310494107,
     "user": {
      "displayName": "sam guns",
      "photoUrl": "https://lh3.googleusercontent.com/a/default-user=s64",
      "userId": "14723531333621374346"
     },
     "user_tz": 480
    },
    "id": "7ZcSwvsD-pGK",
    "outputId": "11ea9986-b6ea-46a0-c245-9166509e0c13"
   },
   "outputs": [
    {
     "name": "stdout",
     "output_type": "stream",
     "text": [
      "/content/drive/MyDrive/Colab Notebooks/tensorflow-experiment/great-barrier-reef\n"
     ]
    }
   ],
   "source": [
    "%cd /content/drive/MyDrive/Colab \\Notebooks/tensorflow-experiment/great-barrier-reef\n",
    "import data_utils\n",
    "if \"backbone\" not in sys.modules:\n",
    "  import backbone\n",
    "else:\n",
    "  backbone = reload(backbone)"
   ]
  },
  {
   "cell_type": "code",
   "execution_count": 5,
   "metadata": {
    "executionInfo": {
     "elapsed": 649,
     "status": "ok",
     "timestamp": 1640308951644,
     "user": {
      "displayName": "sam guns",
      "photoUrl": "https://lh3.googleusercontent.com/a/default-user=s64",
      "userId": "14723531333621374346"
     },
     "user_tz": 480
    },
    "id": "blQDNoQY1BOH"
   },
   "outputs": [],
   "source": [
    "thumbnail_loader=data_utils.DataLoaderThumbnail(input_file=r'/content/drive/MyDrive/Colab Notebooks/great-barrier-reef')\n",
    "train_data = thumbnail.get_training(validation_split=0.2, batch_size=64, shuffle=True)\n",
    "valid_data = thumbnail.get_validation(validation_split=0.2, batch_size=64, shuffle=False)"
   ]
  },
  {
   "cell_type": "code",
   "execution_count": 19,
   "metadata": {
    "executionInfo": {
     "elapsed": 7139,
     "status": "ok",
     "timestamp": 1640310502840,
     "user": {
      "displayName": "sam guns",
      "photoUrl": "https://lh3.googleusercontent.com/a/default-user=s64",
      "userId": "14723531333621374346"
     },
     "user_tz": 480
    },
    "id": "pysc8Ngy_azk"
   },
   "outputs": [],
   "source": [
    "bb = backbone.Backbone_InceptionResNetV2(input_shape=(128,128,3))"
   ]
  },
  {
   "cell_type": "code",
   "execution_count": 20,
   "metadata": {
    "colab": {
     "base_uri": "https://localhost:8080/"
    },
    "executionInfo": {
     "elapsed": 450564,
     "status": "ok",
     "timestamp": 1640310956112,
     "user": {
      "displayName": "sam guns",
      "photoUrl": "https://lh3.googleusercontent.com/a/default-user=s64",
      "userId": "14723531333621374346"
     },
     "user_tz": 480
    },
    "id": "H5ySFU5W_tDT",
    "outputId": "73ca2977-4f7c-43f7-c286-6acc96a4dca9"
   },
   "outputs": [
    {
     "name": "stdout",
     "output_type": "stream",
     "text": [
      "10/10 [==============================] - 57s 5s/step - loss: 0.8352 - binary_accuracy: 0.6562 - val_loss: 0.7879 - val_binary_accuracy: 0.7812\n",
      "10/10 [==============================] - 167s 15s/step - loss: 0.5930 - binary_accuracy: 0.7688 - val_loss: 0.4844 - val_binary_accuracy: 0.7844\n",
      "INFO:tensorflow:Assets written to: test-save-path/assets\n"
     ]
    },
    {
     "data": {
      "text/plain": [
       "({'binary_accuracy': [0.65625],\n",
       "  'loss': [0.8351567983627319],\n",
       "  'val_binary_accuracy': [0.78125],\n",
       "  'val_loss': [0.7878641486167908]},\n",
       " {'binary_accuracy': [0.768750011920929],\n",
       "  'loss': [0.5930421948432922],\n",
       "  'val_binary_accuracy': [0.784375011920929],\n",
       "  'val_loss': [0.48437777161598206]})"
      ]
     },
     "execution_count": 20,
     "metadata": {},
     "output_type": "execute_result"
    }
   ],
   "source": [
    "bb.pretrain(train_data, validation_data=valid_data)\n",
    "bb.save_backbone(\"test-save-path\")"
   ]
  },
  {
   "cell_type": "code",
   "execution_count": 21,
   "metadata": {
    "executionInfo": {
     "elapsed": 57577,
     "status": "ok",
     "timestamp": 1640311246682,
     "user": {
      "displayName": "sam guns",
      "photoUrl": "https://lh3.googleusercontent.com/a/default-user=s64",
      "userId": "14723531333621374346"
     },
     "user_tz": 480
    },
    "id": "GdJ0WZxwKe7C"
   },
   "outputs": [],
   "source": [
    "bb2 = backbone.Backbone_InceptionResNetV2(input_shape=(720, 1280, 3))\n",
    "bb2.load_backbone(\"test-save-path\")"
   ]
  }
 ],
 "metadata": {
  "colab": {
   "authorship_tag": "ABX9TyP2047wyIBSLMbhf+cXenWf",
   "collapsed_sections": [],
   "name": "pretrain_backbone.ipynb",
   "provenance": []
  },
  "kernelspec": {
   "display_name": "Python 3 (ipykernel)",
   "language": "python",
   "name": "python3"
  },
  "language_info": {
   "codemirror_mode": {
    "name": "ipython",
    "version": 3
   },
   "file_extension": ".py",
   "mimetype": "text/x-python",
   "name": "python",
   "nbconvert_exporter": "python",
   "pygments_lexer": "ipython3",
   "version": "3.8.9"
  }
 },
 "nbformat": 4,
 "nbformat_minor": 1
}
