{
 "cells": [
  {
   "cell_type": "code",
   "execution_count": 8,
   "metadata": {
    "id": "tg65cBzEzzC3"
   },
   "outputs": [
    {
     "data": {
      "text/plain": [
       "[PhysicalDevice(name='/physical_device:CPU:0', device_type='CPU')]"
      ]
     },
     "execution_count": 8,
     "metadata": {},
     "output_type": "execute_result"
    }
   ],
   "source": [
    "# Boilerplate\n",
    "import numpy as np\n",
    "import tensorflow as tf\n",
    "from importlib import reload\n",
    "\n",
    "if 'data_utils' not in sys.modules:\n",
    "    import data_utils\n",
    "    import backbone\n",
    "    import rpn\n",
    "else:\n",
    "    reload(data_utils)\n",
    "    reload(backbone)\n",
    "    reload(rpn)\n",
    "    \n",
    "# List physical devices\n",
    "tf.config.list_physical_devices('CPU')"
   ]
  },
  {
   "cell_type": "code",
   "execution_count": 9,
   "metadata": {
    "colab": {
     "base_uri": "https://localhost:8080/"
    },
    "executionInfo": {
     "elapsed": 189,
     "status": "ok",
     "timestamp": 1639193064720,
     "user": {
      "displayName": "sam guns",
      "photoUrl": "https://lh3.googleusercontent.com/a/default-user=s64",
      "userId": "14723531333621374346"
     },
     "user_tz": 480
    },
    "id": "xXEFt0T4hJ6i",
    "outputId": "16e2e3f9-4907-4f3a-a2a2-dc6cc96e3a1c"
   },
   "outputs": [
    {
     "name": "stdout",
     "output_type": "stream",
     "text": [
      "Found 23501 files belonging to 3 classes.\n",
      "Using 18801 files for training.\n",
      "Found 23501 files belonging to 3 classes.\n",
      "Using 4700 files for validation.\n"
     ]
    }
   ],
   "source": [
    "# Data loading classes\n",
    "full = data_utils.DataLoaderFull()\n",
    "train_dataset = full.get_training(validation_split=0.2, batch_size=64, shuffle=True)\n",
    "valid_dataset = full.get_validation(validation_split=0.2, batch_size=1, shuffle=False)"
   ]
  },
  {
   "cell_type": "code",
   "execution_count": 10,
   "metadata": {
    "colab": {
     "base_uri": "https://localhost:8080/"
    },
    "executionInfo": {
     "elapsed": 1719,
     "status": "ok",
     "timestamp": 1639193754786,
     "user": {
      "displayName": "sam guns",
      "photoUrl": "https://lh3.googleusercontent.com/a/default-user=s64",
      "userId": "14723531333621374346"
     },
     "user_tz": 480
    },
    "id": "NaonOX-C1R65",
    "outputId": "891ec864-fc7f-47b4-e1f1-f57ca21259cc"
   },
   "outputs": [],
   "source": [
    "# Instantiate the backbone and RPN wrapper\n",
    "treadmills=rpn.RPNWrapper(backbone.Backbone_InceptionResNetV2())"
   ]
  },
  {
   "cell_type": "code",
   "execution_count": 13,
   "metadata": {
    "id": "DfWTGnTb03Qx"
   },
   "outputs": [],
   "source": [
    "treadmills.train_rpn(train_dataset, full.decode_label, epochs=2)"
   ]
  },
  {
   "cell_type": "code",
   "execution_count": null,
   "metadata": {},
   "outputs": [],
   "source": [
    "# Now let's check what happened here\n",
    "import matplotlib\n",
    "%matplotlib inline\n",
    "from matplotlib.pyplot import *\n",
    "\n",
    "for image, label in valid_dataset:\n",
    "\n",
    "    # Run in evaluation mode\n",
    "    treadmills.propose_regions(image)\n",
    "    \n",
    "    # Plot this up and hope it's at least plausibly correlated with the ground truth"
   ]
  }
 ],
 "metadata": {
  "accelerator": "GPU",
  "colab": {
   "authorship_tag": "ABX9TyPDeUPRFUTv8QBCYcBHe0e6",
   "collapsed_sections": [],
   "name": "pretrain_backbone.ipynb",
   "provenance": []
  },
  "kernelspec": {
   "display_name": "Python 3 (ipykernel)",
   "language": "python",
   "name": "python3"
  },
  "language_info": {
   "codemirror_mode": {
    "name": "ipython",
    "version": 3
   },
   "file_extension": ".py",
   "mimetype": "text/x-python",
   "name": "python",
   "nbconvert_exporter": "python",
   "pygments_lexer": "ipython3",
   "version": "3.8.9"
  }
 },
 "nbformat": 4,
 "nbformat_minor": 1
}
