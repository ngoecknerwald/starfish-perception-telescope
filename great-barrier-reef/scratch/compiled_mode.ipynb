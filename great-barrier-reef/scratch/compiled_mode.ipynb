{
 "cells": [
  {
   "cell_type": "code",
   "execution_count": null,
   "id": "28a61794",
   "metadata": {},
   "outputs": [],
   "source": [
    "# Boilerplate\n",
    "import tensorflow as tf\n",
    "from importlib import reload\n",
    "\n",
    "import backbone\n",
    "import classifier\n",
    "import data_utils\n",
    "import faster_rcnn\n",
    "import rpn\n",
    "import roi_pooling\n",
    "import geometry"
   ]
  },
  {
   "cell_type": "code",
   "execution_count": null,
   "id": "18c04e4a",
   "metadata": {},
   "outputs": [],
   "source": [
    "# Test the data loading class\n",
    "reload(data_utils)\n",
    "d = data_utils.DataLoaderFull()\n",
    "print(d.decode_label(tf.constant(10))[:4,:])\n",
    "print(d.decode_label(tf.constant(60))[:4,:])\n",
    "print(d.decode_label(tf.constant(50))[:4,:])"
   ]
  },
  {
   "cell_type": "code",
   "execution_count": null,
   "id": "05316edc",
   "metadata": {},
   "outputs": [],
   "source": [
    "# Test the backbone\n",
    "reload(backbone)\n",
    "spine = backbone.instantiate('resnet50', {})\n",
    "features = spine(tf.random.normal((4, 720, 1280, 3)))\n",
    "print(features.shape)"
   ]
  },
  {
   "cell_type": "code",
   "execution_count": null,
   "id": "184a9db8",
   "metadata": {},
   "outputs": [],
   "source": [
    "# Test the RPN\n",
    "reload(rpn)\n",
    "reload(geometry)\n",
    "rpnwrap=rpn.RPNWrapper(spine, d.decode_label)\n",
    "rpnwrap.train_rpn(d.get_training())"
   ]
  },
  {
   "cell_type": "code",
   "execution_count": null,
   "id": "0fa05659",
   "metadata": {},
   "outputs": [],
   "source": []
  },
  {
   "cell_type": "code",
   "execution_count": null,
   "id": "5bf2ffae",
   "metadata": {},
   "outputs": [],
   "source": []
  },
  {
   "cell_type": "code",
   "execution_count": null,
   "id": "6c9b7e9b",
   "metadata": {},
   "outputs": [],
   "source": []
  }
 ],
 "metadata": {
  "kernelspec": {
   "display_name": "Python 3 (ipykernel)",
   "language": "python",
   "name": "python3"
  },
  "language_info": {
   "codemirror_mode": {
    "name": "ipython",
    "version": 3
   },
   "file_extension": ".py",
   "mimetype": "text/x-python",
   "name": "python",
   "nbconvert_exporter": "python",
   "pygments_lexer": "ipython3",
   "version": "3.8.9"
  }
 },
 "nbformat": 4,
 "nbformat_minor": 5
}
