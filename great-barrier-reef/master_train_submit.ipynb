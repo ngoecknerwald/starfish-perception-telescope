{
 "cells": [
  {
   "cell_type": "code",
   "execution_count": 2,
   "id": "7d450b53",
   "metadata": {},
   "outputs": [],
   "source": [
    "# Keep most dependencies wrapped further down in the util scripts\n",
    "from faster_rcnn import FasterRCNN\n",
    "from data_utils import DataLoaderFull, DataLoaderThumbnail\n",
    "import greatbarrierreef"
   ]
  },
  {
   "cell_type": "code",
   "execution_count": null,
   "id": "e01058f4",
   "metadata": {},
   "outputs": [],
   "source": [
    "# Start with the full images\n",
    "data_full = DataLoaderFull(input_file='tensorflow-great-barrier-reef')\n",
    "images_full = data_full.get_training(validation_split=0., batch_size=1, shuffle=True)\n",
    "\n",
    "# Now also instantiate thumbnail loading class\n",
    "data_thumb = DataLoaderThumbnail(input_file='tensorflow-great-barrier-reef')\n",
    "images_thumb = data_thumb.get_training(validation_split=0., batch_size=256, shuffle=True)"
   ]
  },
  {
   "cell_type": "code",
   "execution_count": 4,
   "id": "b2d38bc0",
   "metadata": {},
   "outputs": [],
   "source": [
    "# Instantiate the model. This will take a bunch of **kwargs in the future.\n",
    "model = FasterRCNN()"
   ]
  },
  {
   "cell_type": "code",
   "execution_count": null,
   "id": "5e7c57ee",
   "metadata": {},
   "outputs": [],
   "source": [
    "# Train the model. This will also take a bunch of **kwargs in the future.\n",
    "model.train(inputs_full, images_thumb)"
   ]
  },
  {
   "cell_type": "code",
   "execution_count": null,
   "id": "022ed178",
   "metadata": {},
   "outputs": [],
   "source": [
    "# Now enter evaluate mode. This is just the boilerplate code from the competition website.\n",
    "env = greatbarrierreef.make_env()\n",
    "iter_test = env.iter_test()\n",
    "\n",
    "for (pixel_array, prediction_df) in iter_test:\n",
    "    prediction_df['annotations'] = model.predict(pixel_array)\n",
    "    env.predict(prediction_df)"
   ]
  }
 ],
 "metadata": {
  "kernelspec": {
   "display_name": "Python 3 (ipykernel)",
   "language": "python",
   "name": "python3"
  },
  "language_info": {
   "codemirror_mode": {
    "name": "ipython",
    "version": 3
   },
   "file_extension": ".py",
   "mimetype": "text/x-python",
   "name": "python",
   "nbconvert_exporter": "python",
   "pygments_lexer": "ipython3",
   "version": "3.8.9"
  }
 },
 "nbformat": 4,
 "nbformat_minor": 5
}
