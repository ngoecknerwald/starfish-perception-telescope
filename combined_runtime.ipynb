{
 "cells": [
  {
   "cell_type": "code",
   "execution_count": null,
   "metadata": {
    "id": "P0YDaTEvfiRh"
   },
   "outputs": [],
   "source": [
    "%%capture\n",
    "# Remember to set runtime to GPU acceleration\n",
    "\n",
    "# Mount files\n",
    "from google.colab import drive\n",
    "drive.mount('/content/drive')\n",
    "\n",
    "# Set up Kaggle\n",
    "!pip uninstall -y kaggle\n",
    "!pip install --upgrade pip\n",
    "!pip install kaggle==1.5.6\n",
    "!mkdir ~/.kaggle\n",
    "\n",
    "# tfa\n",
    "!pip install tensorflow-addons\n",
    "\n",
    "import json\n",
    "token = {\"username\":\"neilgoecknerwald\",\"key\":\"KEY\"}\n",
    "with open('/root/.kaggle/kaggle.json', 'w') as file:\n",
    "    json.dump(token, file)\n",
    "\n",
    "!chmod 600 /root/.kaggle/kaggle.json"
   ]
  },
  {
   "cell_type": "code",
   "execution_count": null,
   "metadata": {
    "colab": {
     "base_uri": "https://localhost:8080/"
    },
    "id": "VNJR4_zvLd98",
    "outputId": "cbe1ff0b-d72e-42f6-81de-165c6a08e7fc"
   },
   "outputs": [],
   "source": [
    "# Download files\n",
    "\n",
    "!kaggle competitions download -c tensorflow-great-barrier-reef"
   ]
  },
  {
   "cell_type": "code",
   "execution_count": null,
   "metadata": {
    "id": "-seKMohcMbIE"
   },
   "outputs": [],
   "source": [
    "%%capture\n",
    "!unzip tensorflow-great-barrier-reef.zip\n",
    "!rm tensorflow-great-barrier-reef.zip"
   ]
  },
  {
   "cell_type": "code",
   "execution_count": null,
   "metadata": {
    "colab": {
     "base_uri": "https://localhost:8080/"
    },
    "id": "_h4OU1Q3MiTo",
    "outputId": "a6460735-e60a-44ad-d0c1-2449a693b2be"
   },
   "outputs": [],
   "source": [
    "# Clone and pull in python files\n",
    "\n",
    "!git config --global user.email \"ngoecknerwald@gmail.com\"\n",
    "!git config --global user.name \"Neil Goeckner-Wald\"\n",
    "\n",
    "!git clone https://git@github.com/ngoecknerwald/starfish-perception-telescope.git"
   ]
  },
  {
   "cell_type": "code",
   "execution_count": null,
   "metadata": {
    "colab": {
     "base_uri": "https://localhost:8080/"
    },
    "id": "851NbcG5K8_r",
    "outputId": "a647750b-d454-4bb6-e10c-d4a0f9b6674c"
   },
   "outputs": [],
   "source": [
    "###########\n",
    "#\n",
    "# File and environment setup\n",
    "#\n",
    "###########\n",
    "\n",
    "!rsync starfish-perception-telescope/great-barrier-reef/*.py .\n",
    "!ls"
   ]
  },
  {
   "cell_type": "code",
   "execution_count": null,
   "metadata": {
    "id": "HQlqFlQQGOeC"
   },
   "outputs": [],
   "source": [
    "# Global behavior\n",
    "is_colab = True\n",
    "\n",
    "# Output version\n",
    "version='production_v0'\n",
    "\n",
    "# Data locations\n",
    "if is_colab:\n",
    "    datapath='/content'\n",
    "else:\n",
    "    datapath='tensorflow-great-barrier-reef'\n",
    "\n",
    "# File locations\n",
    "\n",
    "# Baseline trained models\n",
    "backbone_weights='trained_backbone.ckpt'\n",
    "rpn_weights='trained_rpn.ckpt'\n",
    "class_weights='trained_classifier.ckpt'\n",
    "\n",
    "# Fine tuned models\n",
    "backbone_tuned='tuned_backbone.ckpt'\n",
    "rpn_tuned='tuned_rpn.ckpt'\n",
    "class_tuned='tuned_classifier.ckpt'"
   ]
  },
  {
   "cell_type": "code",
   "execution_count": null,
   "metadata": {
    "id": "36qEeqk03izs"
   },
   "outputs": [],
   "source": [
    "# Debug status\n",
    "# 0 : Run with ~ no validation set, maximal data for training\n",
    "# 1 : Run with 0.2 validation split for diagnostics, default\n",
    "# 2 : Run with 1% of data to debug python\n",
    "\n",
    "debug = 1"
   ]
  },
  {
   "cell_type": "code",
   "execution_count": null,
   "metadata": {
    "id": "URtnYiZNMsuu"
   },
   "outputs": [],
   "source": [
    "# Usual imports\n",
    "\n",
    "import sys, os\n",
    "import numpy as np\n",
    "from matplotlib.pyplot import figure, imshow, gca, tight_layout, show\n",
    "from matplotlib import patches\n",
    "from importlib import reload\n",
    "import tensorflow as tf\n",
    "\n",
    "if 'roi_pooling' not in sys.modules:\n",
    "    import backbone\n",
    "    import classifier\n",
    "    import data_utils\n",
    "    import faster_rcnn\n",
    "    import rpn\n",
    "    import roi_pooling\n",
    "    import geometry\n",
    "    import evaluation\n",
    "    import callback\n",
    "    import jointmodel\n",
    "else:\n",
    "    reload(backbone)\n",
    "    reload(classifier)\n",
    "    reload(data_utils)\n",
    "    reload(faster_rcnn)\n",
    "    reload(rpn)\n",
    "    reload(roi_pooling)\n",
    "    reload(geometry)\n",
    "    reload(evaluation)\n",
    "    reload(callback)\n",
    "    reload(jointmodel)"
   ]
  },
  {
   "cell_type": "code",
   "execution_count": null,
   "metadata": {
    "colab": {
     "base_uri": "https://localhost:8080/"
    },
    "id": "WcsisPWO2JBE",
    "outputId": "36732f04-2709-4d3e-8fa2-c1e3663ce568"
   },
   "outputs": [],
   "source": [
    "###########\n",
    "#\n",
    "# Base training\n",
    "#\n",
    "###########\n",
    "\n",
    "# Train only the backbone\n",
    "\n",
    "frcnn = faster_rcnn.FasterRCNNWrapper(\n",
    "    datapath=datapath,\n",
    "    backbone_type='ResNet50',\n",
    "    backbone_weights='finetune',\n",
    "    rpn_weights='skip',\n",
    "    classifier_weights='skip',\n",
    "    debug=debug\n",
    ")"
   ]
  },
  {
   "cell_type": "code",
   "execution_count": null,
   "metadata": {
    "colab": {
     "base_uri": "https://localhost:8080/"
    },
    "id": "RnHIIfzX2K57",
    "outputId": "f46e61fe-2b06-4be3-8b2e-32bb33a2fc5f"
   },
   "outputs": [],
   "source": [
    "# Save and update the baseline backbone\n",
    "\n",
    "frcnn.backbone.save_backbone(backbone_weights)\n",
    "\n",
    "if is_colab:\n",
    "    os.system('rsync -rv trained_backbone.ckpt drive/MyDrive/%s/'%version)"
   ]
  },
  {
   "cell_type": "code",
   "execution_count": null,
   "metadata": {
    "colab": {
     "base_uri": "https://localhost:8080/"
    },
    "id": "bOyXP1DKM1Tc",
    "outputId": "1c1ebd10-d91d-40b1-a9eb-2cc3b87b1a08"
   },
   "outputs": [],
   "source": [
    "# Train only the RPN\n",
    "\n",
    "frcnn = faster_rcnn.FasterRCNNWrapper(\n",
    "    datapath=datapath,\n",
    "    backbone_type='ResNet50',\n",
    "    backbone_weights= backbone_weights,\n",
    "    rpn_weights= 'train',\n",
    "    classifier_weights='skip',\n",
    "    debug=debug\n",
    ")"
   ]
  },
  {
   "cell_type": "code",
   "execution_count": null,
   "metadata": {
    "id": "KVb60g6xf8xT"
   },
   "outputs": [],
   "source": [
    "# Save and update the baseline RPN\n",
    "\n",
    "frcnn.rpnwrapper.save_rpn_state(rpn_weights)\n",
    "\n",
    "if is_colab:\n",
    "    os.system('rsync -rv trained_rpn.ckpt drive/MyDrive/%s/'%version)"
   ]
  },
  {
   "cell_type": "code",
   "execution_count": null,
   "metadata": {
    "id": "41PytiDI2GNP"
   },
   "outputs": [],
   "source": [
    "# Train only the classifier\n",
    "\n",
    "frcnn = faster_rcnn.FasterRCNNWrapper(\n",
    "    datapath=datapath,\n",
    "    backbone_type='ResNet50',\n",
    "    backbone_weights=backbone_weights,\n",
    "    rpn_weights=rpn_weights,\n",
    "    classifier_weights= 'train',\n",
    "    debug=debug\n",
    ")"
   ]
  },
  {
   "cell_type": "code",
   "execution_count": null,
   "metadata": {
    "id": "5r3f-ttjl0X0"
   },
   "outputs": [],
   "source": [
    "# Save the classifier\n",
    "\n",
    "frcnn.classmodel.save_classifier_state(class_weights)\n",
    "\n",
    "if is_colab:\n",
    "    os.system('rsync -rv trained_classifier.ckpt drive/MyDrive/%s/'%version)"
   ]
  },
  {
   "cell_type": "code",
   "execution_count": null,
   "metadata": {
    "id": "hJ0YDyBzXqul"
   },
   "outputs": [],
   "source": [
    "###########\n",
    "#\n",
    "# Fine tuning loop\n",
    "#\n",
    "###########\n",
    "\n",
    "frcnn = faster_rcnn.FasterRCNNWrapper(\n",
    "    datapath=datapath,\n",
    "    backbone_type='ResNet50',\n",
    "    backbone_weights=backbone_weights,\n",
    "    rpn_weights=rpn_weights,\n",
    "    classifier_weights= class_weights,\n",
    "    debug=debug\n",
    ")"
   ]
  },
  {
   "cell_type": "code",
   "execution_count": null,
   "metadata": {
    "id": "_tbVLKEYD7JS"
   },
   "outputs": [],
   "source": [
    "# Do additional passes of fine tuning if requested\n",
    "\n",
    "fine_tuning_passes = 4\n",
    "epochs_per_pass = 2\n",
    "\n",
    "for _ in range(fine_tuning_passes):\n",
    "\n",
    "    # Run fine tuning\n",
    "    frcnn.do_fine_tuning(epochs_per_pass)\n",
    "\n",
    "    # Save weights\n",
    "    frcnn.backbone.save_backbone(backbone_tuned)\n",
    "    frcnn.rpnwrapper.save_rpn_state(rpn_tuned)\n",
    "    frcnn.classmodel.save_classifier_state(class_tuned)\n",
    "\n",
    "    if is_colab:\n",
    "        os.system('rsync -rv %s drive/MyDrive/%s/'%(backbone_tuned, version))\n",
    "        os.system('rsync -rv %s drive/MyDrive/%s/'%(rpn_tuned, version))\n",
    "        os.system('rsync -rv %s drive/MyDrive/%s/'%(class_tuned, version))"
   ]
  },
  {
   "cell_type": "code",
   "execution_count": null,
   "metadata": {
    "id": "q8QPjN7LkJ4G"
   },
   "outputs": [],
   "source": [
    "###########\n",
    "#\n",
    "# Demonstration phase\n",
    "#\n",
    "###########\n",
    "\n",
    "# Get a pointer to the validation set\n",
    "\n",
    "validation = frcnn.data_loader_full.get_validation().__iter__()"
   ]
  },
  {
   "cell_type": "code",
   "execution_count": null,
   "metadata": {
    "id": "7E-NDA6J7iyF"
   },
   "outputs": [],
   "source": [
    "# Find minibatch with a positive example\n",
    "\n",
    "all_decoded = [[0.],]\n",
    "while all([tf.reduce_sum(decoded) < 1. for decoded in all_decoded]):\n",
    "    images, labels = validation.next()\n",
    "    all_decoded = [frcnn.data_loader_full.decode_label(label) for label in labels]"
   ]
  },
  {
   "cell_type": "code",
   "execution_count": null,
   "metadata": {
    "id": "kwhdwJL1rpb-"
   },
   "outputs": [],
   "source": [
    "# Generate intermediate data products for diagnostics.\n",
    "\n",
    "# This cell makes the RPN outputs as well as the pooled RoI\n",
    "# in image coordinates to be added to the plot.\n",
    "\n",
    "roi_unpool = frcnn.rpnwrapper.propose_regions(images, input_images=True, output_images=True)\n",
    "\n",
    "# Next show the pooled RoI. Note that we have to do this in feature space\n",
    "# because that is what the pooling class understands\n",
    "features=frcnn.backbone.extractor(images) \n",
    "regions = frcnn.rpnwrapper.propose_regions(features, input_images=False, output_images=False)\n",
    "_, roi_pool = frcnn.RoI_pool((features, regions))\n",
    "\n",
    "# Convert these pooled RoI back to image space for plotting and diagnostic purposes\n",
    "roi_numpy= roi_pool.numpy().astype('float32')\n",
    "roi_numpy[:,:,1], roi_numpy[:,:,0]  = frcnn.backbone.feature_coords_to_image_coords(\n",
    "    roi_numpy[:,:,1], roi_numpy[:,:,0]\n",
    ")\n",
    "roi_numpy[:,:,3], roi_numpy[:,:,2]  = frcnn.backbone.feature_coords_to_image_coords(\n",
    "    roi_numpy[:,:,3], roi_numpy[:,:,2]\n",
    ")\n",
    "roi_pool_image = tf.convert_to_tensor(roi_numpy)\n",
    "\n",
    "# Convert the labels to tensor\n",
    "all_decoded = tf.convert_to_tensor(all_decoded)"
   ]
  },
  {
   "cell_type": "code",
   "execution_count": null,
   "metadata": {
    "colab": {
     "base_uri": "https://localhost:8080/"
    },
    "id": "L9-lEplgBN_7",
    "outputId": "19f0c156-e5b5-481f-8ca0-cfefacf69a68"
   },
   "outputs": [],
   "source": [
    "# Now run the RCNNN in prediction mode\n",
    "\n",
    "predictions = frcnn.predict(images, return_mode='dict')\n",
    "for i, prediction in enumerate(predictions):\n",
    "    print('Predictions for image %d'%i)\n",
    "    for annotation in prediction:\n",
    "        print(annotation)"
   ]
  },
  {
   "cell_type": "code",
   "execution_count": null,
   "metadata": {
    "colab": {
     "base_uri": "https://localhost:8080/",
     "height": 1000
    },
    "id": "XN4q7H_kPWmf",
    "outputId": "81e63fc7-d8ce-4d63-c831-70d69d4292b3"
   },
   "outputs": [],
   "source": [
    "# Plot everything up\n",
    "\n",
    "for i in range(all_decoded.shape[0]):\n",
    "\n",
    "    figure(figsize=(16, 9))\n",
    "    imshow(images[i, :, :, :].numpy() / 255.0)\n",
    "\n",
    "    # Draw the ground truth\n",
    "    for annotation in all_decoded[i]:\n",
    "        rect = patches.Rectangle(\n",
    "            (annotation[0], annotation[1]),\n",
    "            annotation[2],\n",
    "            annotation[3],\n",
    "            linewidth=4,\n",
    "            edgecolor=\"y\",\n",
    "            facecolor=\"none\",\n",
    "        )\n",
    "        gca().add_patch(rect)\n",
    "\n",
    "    # Draw the RPN outputs\n",
    "    for j in range(roi_unpool.shape[1]): #roi_unpool.shape[1]):\n",
    "        rect = patches.Rectangle(\n",
    "            (roi_unpool[i, j, 0], roi_unpool[i, j, 1]),\n",
    "            roi_unpool[i, j, 2],\n",
    "            roi_unpool[i, j, 3],\n",
    "            linewidth=4 * ((roi_unpool.shape[1] -j) / roi_unpool.shape[1])+1,\n",
    "            edgecolor=\"g\",\n",
    "            facecolor=\"none\",\n",
    "            linestyle=':'\n",
    "        )\n",
    "        gca().add_patch(rect)\n",
    "    \n",
    "    # Draw the IoU suppressed and pooled areas\n",
    "    for j in range(roi_pool.shape[1]):\n",
    "        rect = patches.Rectangle(\n",
    "            (roi_pool_image[i, j, 0], roi_pool_image[i, j, 1]),\n",
    "            roi_pool_image[i, j, 2],\n",
    "            roi_pool_image[i, j, 3],\n",
    "            linewidth=4 * ((roi_pool.shape[1] - j) /roi_pool.shape[1]) + 1,\n",
    "            edgecolor=\"r\",\n",
    "            facecolor=\"none\",\n",
    "            linestyle=':'\n",
    "        )\n",
    "        gca().add_patch(rect)   \n",
    "    \n",
    "    # Draw the final classifier outputs\n",
    "    for annotation in predictions[i]:\n",
    "        rect = patches.Rectangle(\n",
    "            (annotation['x'],\n",
    "            annotation['y']),\n",
    "            annotation['width'],\n",
    "            annotation['height'],\n",
    "            linewidth = 4 * annotation['score'] + 1,\n",
    "            edgecolor='k',\n",
    "            facecolor='none',\n",
    "            linestyle='--',\n",
    "        )\n",
    "        gca().add_patch(rect)   \n",
    "\n",
    "    \n",
    "    # Plot it up\n",
    "    gca().grid(\"True\")\n",
    "    tight_layout()"
   ]
  },
  {
   "cell_type": "code",
   "execution_count": null,
   "metadata": {
    "id": "Aoq-QwGQR3xf"
   },
   "outputs": [],
   "source": []
  }
 ],
 "metadata": {
  "accelerator": "GPU",
  "colab": {
   "background_execution": "on",
   "collapsed_sections": [],
   "name": "combined-runtime",
   "provenance": []
  },
  "kernelspec": {
   "display_name": "Python 3 (ipykernel)",
   "language": "python",
   "name": "python3"
  },
  "language_info": {
   "codemirror_mode": {
    "name": "ipython",
    "version": 3
   },
   "file_extension": ".py",
   "mimetype": "text/x-python",
   "name": "python",
   "nbconvert_exporter": "python",
   "pygments_lexer": "ipython3",
   "version": "3.8.9"
  }
 },
 "nbformat": 4,
 "nbformat_minor": 1
}
