{
 "cells": [
  {
   "cell_type": "code",
   "execution_count": null,
   "metadata": {
    "id": "HQlqFlQQGOeC"
   },
   "outputs": [],
   "source": [
    "# Debug level\n",
    "debug=2\n",
    "\n",
    "#Input files\n",
    "backbone_weights='trained_backbone.ckpt'\n",
    "rpn_weights='trained_rpn.ckpt'\n",
    "class_weights='trained_classifier.ckpt'\n",
    "datapath='tensorflow-great-barrier-reef'"
   ]
  },
  {
   "cell_type": "code",
   "execution_count": null,
   "metadata": {
    "id": "URtnYiZNMsuu"
   },
   "outputs": [],
   "source": [
    "# Boilerplate\n",
    "import sys\n",
    "import numpy as np\n",
    "from matplotlib.pyplot import figure, imshow, gca, tight_layout, show\n",
    "from matplotlib import patches\n",
    "from importlib import reload\n",
    "import tensorflow as tf\n",
    "import tensorflow_addons as tfa\n",
    "import os\n",
    "\n",
    "if 'jointmodel' not in sys.modules:\n",
    "    import backbone\n",
    "    import classifier\n",
    "    import data_utils\n",
    "    import faster_rcnn\n",
    "    import rpn\n",
    "    import roi_pooling\n",
    "    import geometry\n",
    "    import evaluation\n",
    "    import callback\n",
    "    import jointmodel\n",
    "else:\n",
    "    reload(backbone)\n",
    "    reload(classifier)\n",
    "    reload(data_utils)\n",
    "    reload(faster_rcnn)\n",
    "    reload(rpn)\n",
    "    reload(roi_pooling)\n",
    "    reload(geometry)\n",
    "    reload(evaluation)\n",
    "    reload(callback)\n",
    "    reload(jointmodel)"
   ]
  },
  {
   "cell_type": "code",
   "execution_count": null,
   "metadata": {
    "id": "hJ0YDyBzXqul"
   },
   "outputs": [],
   "source": [
    "# Instantiate everything from saved weights\n",
    "frcnn = faster_rcnn.FasterRCNNWrapper(\n",
    "    input_shape=(720, 1280, 3),\n",
    "    datapath=datapath,\n",
    "    backbone_type='ResNet50',\n",
    "    backbone_weights=backbone_weights,\n",
    "    rpn_weights=rpn_weights,\n",
    "    classifier_weights= class_weights,\n",
    "    positive_threshold=0.0,\n",
    "    debug=debug\n",
    ")"
   ]
  },
  {
   "cell_type": "code",
   "execution_count": null,
   "metadata": {},
   "outputs": [],
   "source": [
    "# Test that the RPN components work as expected\n",
    "training = frcnn.data_loader_full.get_validation().__iter__()"
   ]
  },
  {
   "cell_type": "code",
   "execution_count": null,
   "metadata": {
    "id": "g4i24fvx2Lu0"
   },
   "outputs": [],
   "source": [
    "# Optimizer uses the weight decay and learning rates\n",
    "# from the final base training epoch. Uses the\n",
    "# same clip value and momentum parameters as the classifier\n",
    "# although the gradient clip shouldn't matter here.\n",
    "fine_optimizer = tfa.optimizers.SGDW(\n",
    "            learning_rate=frcnn.classifier_learning_rate[\"values\"][-1], # This is almost certainly too slow\n",
    "            weight_decay=frcnn.classifier_weight_decay[\"values\"][-1], # This is also too slow\n",
    "            momentum=frcnn.classifier_momentum,\n",
    "            clipvalue=frcnn.classifier_clipvalue,\n",
    ")\n",
    "\n",
    "# Important - free up the backbone weights\n",
    "frcnn.backbone.set_trainable(True)\n",
    "\n",
    "frcnn.rpnwrapper.rpnmodel._positive.assign(500.)\n",
    "frcnn.rpnwrapper.rpnmodel._negative.assign(100.)\n",
    "frcnn.classmodel._positive.assign(500.)\n",
    "frcnn.classmodel._negative.assign(100.)"
   ]
  },
  {
   "cell_type": "code",
   "execution_count": null,
   "metadata": {
    "id": "q8QPjN7LkJ4G"
   },
   "outputs": [],
   "source": [
    "# Make the joint model\n",
    "reload(jointmodel)\n",
    "\n",
    "joint_model = jointmodel.JointModel(\n",
    "            frcnn.backbone,\n",
    "            frcnn.rpnwrapper.rpnmodel,\n",
    "\n",
    "            frcnn.data_loader_full.decode_label,\n",
    "            frcnn.classifier_augmentation\n",
    ")\n",
    "\n",
    "joint_model.optimizer = fine_optimizer\n",
    "joint_model.compiled_metrics = [\n",
    "                evaluation.TopNRegionsRecall(\n",
    "                    self.rpnwrapper.top_n_recall,\n",
    "                    self.data_loader_full.decode_label,\n",
    "                    name=\"top%d_recall\" % self.rpnwrapper.top_n_recall,\n",
    "                )\n",
    "            ]"
   ]
  },
  {
   "cell_type": "code",
   "execution_count": null,
   "metadata": {
    "id": "7E-NDA6J7iyF"
   },
   "outputs": [],
   "source": [
    "joint_model.train_step(training.next())"
   ]
  },
  {
   "cell_type": "code",
   "execution_count": null,
   "metadata": {
    "id": "L9-lEplgBN_7"
   },
   "outputs": [],
   "source": [
    "joint_model.test_step(training.next())"
   ]
  },
  {
   "cell_type": "code",
   "execution_count": null,
   "metadata": {
    "id": "XN4q7H_kPWmf"
   },
   "outputs": [],
   "source": []
  },
  {
   "cell_type": "code",
   "execution_count": null,
   "metadata": {
    "id": "Aoq-QwGQR3xf"
   },
   "outputs": [],
   "source": []
  }
 ],
 "metadata": {
  "accelerator": "GPU",
  "colab": {
   "background_execution": "on",
   "collapsed_sections": [],
   "name": "combined-runtime",
   "provenance": []
  },
  "kernelspec": {
   "display_name": "Python 3 (ipykernel)",
   "language": "python",
   "name": "python3"
  },
  "language_info": {
   "codemirror_mode": {
    "name": "ipython",
    "version": 3
   },
   "file_extension": ".py",
   "mimetype": "text/x-python",
   "name": "python",
   "nbconvert_exporter": "python",
   "pygments_lexer": "ipython3",
   "version": "3.8.9"
  }
 },
 "nbformat": 4,
 "nbformat_minor": 1
}
