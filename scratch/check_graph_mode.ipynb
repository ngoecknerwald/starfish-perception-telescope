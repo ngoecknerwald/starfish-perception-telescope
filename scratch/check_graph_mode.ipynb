{
 "cells": [
  {
   "cell_type": "code",
   "execution_count": null,
   "metadata": {
    "id": "Q-nS_BcqZZDQ"
   },
   "outputs": [],
   "source": [
    "%%capture\n",
    "# Remember to set runtime to GPU acceleration\n",
    "\n",
    "# Mount files\n",
    "from google.colab import drive\n",
    "drive.mount('/content/drive')\n",
    "\n",
    "# Set up Kaggle\n",
    "!pip uninstall -y kaggle\n",
    "!pip install --upgrade pip\n",
    "!pip install kaggle==1.5.6\n",
    "!mkdir ~/.kaggle\n",
    "\n",
    "# tfa\n",
    "!pip install tensorflow-addons\n",
    "\n",
    "import json\n",
    "token = {\"username\":\"neilgoecknerwald\",\"key\":\"KEY\"}\n",
    "with open('/root/.kaggle/kaggle.json', 'w') as file:\n",
    "    json.dump(token, file)\n",
    "\n",
    "!chmod 600 /root/.kaggle/kaggle.json"
   ]
  },
  {
   "cell_type": "code",
   "execution_count": null,
   "metadata": {
    "id": "llp-GMkiZeQd"
   },
   "outputs": [],
   "source": [
    "# Download files\n",
    "!kaggle competitions download -c tensorflow-great-barrier-reef"
   ]
  },
  {
   "cell_type": "code",
   "execution_count": null,
   "metadata": {
    "id": "rjcYJGBGZgvL"
   },
   "outputs": [],
   "source": [
    "%%capture\n",
    "!unzip tensorflow-great-barrier-reef.zip\n",
    "!rm tensorflow-great-barrier-reef.zip"
   ]
  },
  {
   "cell_type": "code",
   "execution_count": null,
   "metadata": {
    "id": "3Uxnv5oBZjxc"
   },
   "outputs": [],
   "source": [
    "# Clone and pull in python files\n",
    "!git config --global user.email \"email@email.com\"\n",
    "!git config --global user.name \"Neil Goeckner-Wald\"\n",
    "\n",
    "!git clone https://git@github.com/ngoecknerwald/starfish-perception-telescope.git"
   ]
  },
  {
   "cell_type": "code",
   "execution_count": null,
   "metadata": {
    "id": "dMLEBnzZZxcj"
   },
   "outputs": [],
   "source": [
    "# Boilerplate\n",
    "import sys\n",
    "import numpy as np\n",
    "import tensorflow as tf\n",
    "from matplotlib.pyplot import figure, imshow, gca, tight_layout, show\n",
    "from matplotlib import patches\n",
    "from importlib import reload\n",
    "import os\n",
    "\n",
    "if 'roi_pooling' not in sys.modules:\n",
    "    import backbone\n",
    "    import classifier\n",
    "    import data_utils\n",
    "    import faster_rcnn\n",
    "    import rpn\n",
    "    import roi_pooling\n",
    "    import geometry\n",
    "else:\n",
    "    reload(backbone)\n",
    "    reload(classifier)\n",
    "    reload(data_utils)\n",
    "    reload(faster_rcnn)\n",
    "    reload(rpn)\n",
    "    reload(roi_pooling)\n",
    "    reload(geometry)"
   ]
  },
  {
   "cell_type": "code",
   "execution_count": null,
   "metadata": {
    "id": "F1jx-5G0ZyOE"
   },
   "outputs": [],
   "source": [
    "# List physical devices\n",
    "is_colab = len(tf.config.list_physical_devices('GPU')) > 0\n",
    "\n",
    "# Data locations\n",
    "if is_colab:\n",
    "    datapath='/content'\n",
    "    backbone_weights='drive/MyDrive/trained_backbone.ckpt'\n",
    "    rpn_weights='drive/MyDrive/compiled_rpn.ckpt'\n",
    "    class_weights='drive/MyDrive/compiled_classifier.ckpt'\n",
    "else:\n",
    "    datapath='tensorflow-great-barrier-reef'\n",
    "    backbone_weights='trained_backbone.ckpt'\n",
    "    rpn_weights='compiled_rpn.ckpt'\n",
    "    class_weights='compiled_classifier.ckpt'"
   ]
  },
  {
   "cell_type": "code",
   "execution_count": null,
   "metadata": {
    "id": "Bz2LT_31Z1GK"
   },
   "outputs": [],
   "source": [
    "# Instantiate the high-level wrapper\n",
    "frcnn = faster_rcnn.FasterRCNNWrapper(\n",
    "    input_shape=(720, 1280, 3),\n",
    "    datapath=datapath,\n",
    "    backbone_type='ResNet50',\n",
    "    backbone_weights=backbone_weights if os.path.exists(backbone_weights) else 'finetune',\n",
    "    rpn_weights=rpn_weights if os.path.exists(rpn_weights) else None,\n",
    "    classifier_weights=class_weights if os.path.exists(class_weights) else None\n",
    ")"
   ]
  },
  {
   "cell_type": "code",
   "execution_count": null,
   "metadata": {
    "id": "KFAnrN3RivIJ"
   },
   "outputs": [],
   "source": [
    "frcnn.rpnwrapper.save_rpn_state('drive/MyDrive/compiled_rpn.ckpt')"
   ]
  },
  {
   "cell_type": "code",
   "execution_count": null,
   "metadata": {
    "id": "Sb9DB4lyZ5YL"
   },
   "outputs": [],
   "source": [
    "# Test the RPN\n",
    "from tensorflow.python.ops.numpy_ops import np_config\n",
    "np_config.enable_numpy_behavior()\n",
    "\n",
    "# Test that the RPN components work as expected\n",
    "all_decoded = []\n",
    "validation = frcnn.data_loader_full.get_training().__iter__()\n",
    "\n",
    "# Find minibatch with a positive example\n",
    "while all([np.sum(decoded) == 0 for decoded in all_decoded]):\n",
    "    images, labels = validation.next()\n",
    "    all_decoded = [frcnn.data_loader_full.decode_label(label) for label in labels]\n",
    "\n",
    "# Run system in forward mode. First show the RoI to test\n",
    "roi = frcnn.rpnwrapper.propose_regions(images, is_images=True)\n",
    "roi = roi.astype('float32')"
   ]
  },
  {
   "cell_type": "code",
   "execution_count": null,
   "metadata": {
    "id": "rwcyq38Jd2ZT"
   },
   "outputs": [],
   "source": [
    "# Plot everything up\n",
    "roi = roi[:,:32,:]\n",
    "\n",
    "for i, decoded in enumerate(all_decoded):\n",
    "\n",
    "    figure(figsize=(16, 9))\n",
    "    imshow(images[i, :, :, :].numpy() / 255.0)\n",
    "\n",
    "    # Draw the ground truth\n",
    "    for annotation in decoded:\n",
    "        rect = patches.Rectangle(\n",
    "            (annotation[0], annotation[1]),\n",
    "            annotation[2],\n",
    "            annotation[3],\n",
    "            linewidth=4,\n",
    "            edgecolor=\"y\",\n",
    "            facecolor=\"none\",\n",
    "        )\n",
    "        gca().add_patch(rect)\n",
    "\n",
    "    # Draw the proposals\n",
    "    for j in range(roi.shape[1]):\n",
    "        rect = patches.Rectangle(\n",
    "            (roi[i, j, 0], roi[i, j, 1]),\n",
    "            roi[i, j, 2],\n",
    "            roi[i, j, 3],\n",
    "            linewidth=np.maximum((roi.shape[1] - j) / 8, 1),\n",
    "            edgecolor=\"g\",\n",
    "            facecolor=\"none\",\n",
    "        )\n",
    "        gca().add_patch(rect)\n",
    "    \n",
    "    # Plot it up\n",
    "    gca().grid(\"True\")\n",
    "    tight_layout()"
   ]
  },
  {
   "cell_type": "code",
   "execution_count": null,
   "metadata": {
    "id": "aI8V2fv3lfD4"
   },
   "outputs": [],
   "source": []
  }
 ],
 "metadata": {
  "accelerator": "GPU",
  "colab": {
   "collapsed_sections": [],
   "name": "check_graph_mode",
   "provenance": []
  },
  "kernelspec": {
   "display_name": "Python 3 (ipykernel)",
   "language": "python",
   "name": "python3"
  },
  "language_info": {
   "codemirror_mode": {
    "name": "ipython",
    "version": 3
   },
   "file_extension": ".py",
   "mimetype": "text/x-python",
   "name": "python",
   "nbconvert_exporter": "python",
   "pygments_lexer": "ipython3",
   "version": "3.8.9"
  }
 },
 "nbformat": 4,
 "nbformat_minor": 1
}
