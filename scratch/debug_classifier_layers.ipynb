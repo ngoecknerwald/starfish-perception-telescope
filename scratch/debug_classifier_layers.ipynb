{
 "cells": [
  {
   "cell_type": "code",
   "execution_count": null,
   "metadata": {
    "colab": {
     "base_uri": "https://localhost:8080/"
    },
    "executionInfo": {
     "elapsed": 201,
     "status": "ok",
     "timestamp": 1641409420593,
     "user": {
      "displayName": "Neil Goeckner-Wald",
      "photoUrl": "https://lh3.googleusercontent.com/a-/AOh14GiH1WXquD8bWQA9pE1WQBMvZvNvBCom38dk2YSZww=s64",
      "userId": "17626929725226258548"
     },
     "user_tz": 480
    },
    "id": "URtnYiZNMsuu",
    "outputId": "1022ed0e-0768-43b9-d7c5-f5552034453d"
   },
   "outputs": [],
   "source": [
    "# Boilerplate\n",
    "import sys\n",
    "import numpy as np\n",
    "import tensorflow as tf\n",
    "import matplotlib\n",
    "from matplotlib.pyplot import figure, imshow, gca, tight_layout, show\n",
    "from matplotlib import patches\n",
    "from importlib import reload\n",
    "import os\n",
    "\n",
    "if 'roi_pooling' not in sys.modules:\n",
    "    import backbone\n",
    "    import classifier\n",
    "    import data_utils\n",
    "    import faster_rcnn\n",
    "    import rpn\n",
    "    import roi_pooling\n",
    "    import geometry\n",
    "    import evaluation\n",
    "else:\n",
    "    reload(backbone)\n",
    "    reload(classifier)\n",
    "    reload(data_utils)\n",
    "    reload(faster_rcnn)\n",
    "    reload(rpn)\n",
    "    reload(roi_pooling)\n",
    "    reload(geometry)\n",
    "    reload(evaluation)"
   ]
  },
  {
   "cell_type": "code",
   "execution_count": null,
   "metadata": {},
   "outputs": [],
   "source": [
    "# List physical devices\n",
    "is_colab = len(tf.config.list_physical_devices('GPU')) > 0\n",
    "\n",
    "# Data locations\n",
    "if is_colab:\n",
    "    datapath='/content'\n",
    "    backbone_weights='drive/MyDrive/trained_backbone.ckpt'\n",
    "    rpn_weights='drive/MyDrive/trained_rpn.ckpt'\n",
    "    class_weights='drive/MyDrive/blank_classifier.ckpt'\n",
    "else:\n",
    "    datapath='tensorflow-great-barrier-reef'\n",
    "    backbone_weights='trained_backbone.ckpt'\n",
    "    rpn_weights='trained_rpn.ckpt'\n",
    "    class_weights='blank_classifier.ckpt'"
   ]
  },
  {
   "cell_type": "code",
   "execution_count": null,
   "metadata": {
    "colab": {
     "base_uri": "https://localhost:8080/"
    },
    "executionInfo": {
     "elapsed": 1495,
     "status": "ok",
     "timestamp": 1641410019562,
     "user": {
      "displayName": "Neil Goeckner-Wald",
      "photoUrl": "https://lh3.googleusercontent.com/a-/AOh14GiH1WXquD8bWQA9pE1WQBMvZvNvBCom38dk2YSZww=s64",
      "userId": "17626929725226258548"
     },
     "user_tz": 480
    },
    "id": "bOyXP1DKM1Tc",
    "outputId": "68c8cc4e-a9dd-45a7-f750-2d830f6248b8"
   },
   "outputs": [],
   "source": [
    "# Instantiate the high-level wrapper\n",
    "frcnn = faster_rcnn.FasterRCNNWrapper(\n",
    "    input_shape=(720, 1280, 3),\n",
    "    datapath=datapath,\n",
    "    backbone_type='ResNet50',\n",
    "    backbone_weights='imagenet', #backbone_weights if os.path.exists(backbone_weights) else 'finetune',\n",
    "    rpn_weights=rpn_weights if os.path.exists(rpn_weights) else None,\n",
    "    classifier_weights=class_weights if os.path.exists(class_weights) else None\n",
    ")"
   ]
  },
  {
   "cell_type": "code",
   "execution_count": null,
   "metadata": {},
   "outputs": [],
   "source": [
    "#images, labels = frcnn.data_loader_full.get_training().__iter__().next()\n",
    "#_ = frcnn.predict(images, return_mode='dict')\n",
    "#frcnn.classmodel.save_classifier_state(class_weights)"
   ]
  },
  {
   "cell_type": "code",
   "execution_count": null,
   "metadata": {
    "executionInfo": {
     "elapsed": 248,
     "status": "ok",
     "timestamp": 1641410022079,
     "user": {
      "displayName": "Neil Goeckner-Wald",
      "photoUrl": "https://lh3.googleusercontent.com/a-/AOh14GiH1WXquD8bWQA9pE1WQBMvZvNvBCom38dk2YSZww=s64",
      "userId": "17626929725226258548"
     },
     "user_tz": 480
    },
    "id": "5r3f-ttjl0X0"
   },
   "outputs": [],
   "source": [
    "# Let's instantiate the classifier\n",
    "training = frcnn.data_loader_full.get_training().__iter__()"
   ]
  },
  {
   "cell_type": "code",
   "execution_count": null,
   "metadata": {},
   "outputs": [],
   "source": [
    "train_images, train_labels = training.next()\n",
    "print(train_images.shape)\n",
    "print(train_labels)"
   ]
  },
  {
   "cell_type": "code",
   "execution_count": null,
   "metadata": {},
   "outputs": [],
   "source": [
    "# Run system in forward mode. First show all the RoI to test.\n",
    "# This is returned in image space for simplicity\n",
    "roi_unpool = frcnn.rpnwrapper.propose_regions(train_images, input_images=True, output_images=True)\n",
    "\n",
    "# Next show the pooled RoI. Note that we have to do this in feature space\n",
    "# because that is the language the pooling class expects.\n",
    "features=frcnn.backbone.extractor(train_images) \n",
    "regions = frcnn.rpnwrapper.propose_regions(features, input_images=False, output_images=False)\n",
    "_, roi_pool = frcnn.RoI_pool((features, regions))\n",
    "\n",
    "# Convert these pooled RoI back to image space for plotting and diagnostic purposes\n",
    "roi_numpy= roi_pool.numpy().astype('float32')\n",
    "roi_numpy[:,:,1], roi_numpy[:,:,0]  = frcnn.backbone.feature_coords_to_image_coords(\n",
    "    roi_numpy[:,:,1], roi_numpy[:,:,0]\n",
    ")\n",
    "roi_numpy[:,:,3], roi_numpy[:,:,2]  = frcnn.backbone.feature_coords_to_image_coords(\n",
    "    roi_numpy[:,:,3], roi_numpy[:,:,2]\n",
    ")\n",
    "roi_pool_image = tf.convert_to_tensor(roi_numpy)\n",
    "\n",
    "# Convert the labels to tensor\n",
    "all_decoded = [frcnn.data_loader_full.decode_label(label) for label in train_labels]\n",
    "all_decoded = tf.convert_to_tensor(all_decoded)"
   ]
  },
  {
   "cell_type": "code",
   "execution_count": null,
   "metadata": {},
   "outputs": [],
   "source": [
    "# Plot everything up\n",
    "for i in range(all_decoded.shape[0]):\n",
    "\n",
    "    figure(figsize=(16, 9))\n",
    "    imshow(train_images[i, :, :, :].numpy() / 255.0)\n",
    "\n",
    "    # Draw the ground truth\n",
    "    for annotation in all_decoded[i]:\n",
    "        rect = patches.Rectangle(\n",
    "            (annotation[0], annotation[1]),\n",
    "            annotation[2],\n",
    "            annotation[3],\n",
    "            linewidth=4,\n",
    "            edgecolor=\"y\",\n",
    "            facecolor=\"none\",\n",
    "        )\n",
    "        gca().add_patch(rect)\n",
    "\n",
    "    # Draw the RPN outputs\n",
    "    for j in range(roi_unpool.shape[1]):\n",
    "        rect = patches.Rectangle(\n",
    "            (roi_unpool[i, j, 0], roi_unpool[i, j, 1]),\n",
    "            roi_unpool[i, j, 2],\n",
    "            roi_unpool[i, j, 3],\n",
    "            linewidth=((roi_unpool.shape[1] -j) / 32)+1,\n",
    "            edgecolor=\"g\",\n",
    "            facecolor=\"none\",\n",
    "            linestyle='--'\n",
    "        )\n",
    "        gca().add_patch(rect)\n",
    "    \n",
    "    # Draw the IoU suppressed and pooled areas\n",
    "    for j in range(roi_pool.shape[1]):\n",
    "        rect = patches.Rectangle(\n",
    "            (roi_pool_image[i, j, 0], roi_pool_image[i, j, 1]),\n",
    "            roi_pool_image[i, j, 2],\n",
    "            roi_pool_image[i, j, 3],\n",
    "            linewidth=((roi_pool.shape[1] - j) /4) + 1,\n",
    "            edgecolor=\"r\",\n",
    "            facecolor=\"none\",\n",
    "            linestyle=':'\n",
    "        )\n",
    "        gca().add_patch(rect)   \n",
    "    \n",
    "    # Plot it up\n",
    "    gca().grid(\"True\")\n",
    "    tight_layout()"
   ]
  },
  {
   "cell_type": "code",
   "execution_count": null,
   "metadata": {},
   "outputs": [],
   "source": [
    "# Compile to enable training mode\n",
    "frcnn.classmodel.compile(\n",
    "    optimizer=frcnn.optimizer, metrics=frcnn.validation_f2s\n",
    ")\n",
    "\n",
    "print(frcnn.classmodel)\n",
    "print(frcnn.optimizer)"
   ]
  },
  {
   "cell_type": "code",
   "execution_count": null,
   "metadata": {
    "executionInfo": {
     "elapsed": 213,
     "status": "ok",
     "timestamp": 1641410023611,
     "user": {
      "displayName": "Neil Goeckner-Wald",
      "photoUrl": "https://lh3.googleusercontent.com/a-/AOh14GiH1WXquD8bWQA9pE1WQBMvZvNvBCom38dk2YSZww=s64",
      "userId": "17626929725226258548"
     },
     "user_tz": 480
    },
    "id": "6jr3jlNWZQET"
   },
   "outputs": [],
   "source": [
    "# Sure enough the loss looks weird in test_step, zero overlap and loss=16\n",
    "frcnn.classmodel.test_step((train_images, train_labels))"
   ]
  },
  {
   "cell_type": "code",
   "execution_count": null,
   "metadata": {},
   "outputs": [],
   "source": [
    "# Same with the train_step\n",
    "frcnn.classmodel.train_step((train_images, train_labels))"
   ]
  },
  {
   "cell_type": "code",
   "execution_count": null,
   "metadata": {},
   "outputs": [],
   "source": [
    "# Now let's run the basic call method\n",
    "features_unpool = frcnn.backbone(train_images)\n",
    "features, roi = frcnn.RoI_pool(\n",
    "                (\n",
    "                    features_unpool,\n",
    "                    frcnn.rpnwrapper.propose_regions(\n",
    "                        features_unpool, input_images=False, output_images=False\n",
    "                    ),\n",
    "                )\n",
    "            )\n",
    "\n",
    "print(features.shape)\n",
    "print(roi)"
   ]
  },
  {
   "cell_type": "code",
   "execution_count": null,
   "metadata": {},
   "outputs": [],
   "source": [
    "for i in range(10):\n",
    "    print(np.max(features_unpool[3,2:5,2:5,:]))\n",
    "    print(np.max(features[3,i,:,:,:]))"
   ]
  },
  {
   "cell_type": "code",
   "execution_count": null,
   "metadata": {},
   "outputs": [],
   "source": [
    "outputs = frcnn.classmodel.call((features, roi))\n",
    "print('x')\n",
    "print(outputs[:,:,0])\n",
    "print('y')\n",
    "print(outputs[:,:,1])\n",
    "print('w')\n",
    "print(outputs[:,:,2])\n",
    "print('h')\n",
    "print(outputs[:,:,3])\n",
    "print('score')\n",
    "print(outputs[:,:,4])"
   ]
  },
  {
   "cell_type": "code",
   "execution_count": null,
   "metadata": {},
   "outputs": [],
   "source": [
    "# Ok, so now let's pass through the loss calculation *manually*\n",
    "cls, bbox = frcnn.classmodel.classifier(features, training=False)\n",
    "print(cls)"
   ]
  },
  {
   "cell_type": "code",
   "execution_count": null,
   "metadata": {},
   "outputs": [],
   "source": [
    "def _compute_loss(data):\n",
    "    \"\"\"\n",
    "    Compute the loss term for the full network.\n",
    "    Works on one image at a time.\n",
    "\n",
    "    Arguments:\n",
    "\n",
    "    data : (tf.tensor, tf.tensor, tf.tensor, tf.tensor)\n",
    "        Packed classifier scores, bbox regressors, roi, and labels for this image.\n",
    "        Note that the RoI should be in *feature coordinates*, not image coordinates.\n",
    "\n",
    "    \"\"\"\n",
    "    \n",
    "    print(\"Python interpreter in classifier._compute_loss()\")\n",
    "\n",
    "    # No batch dimensions in this function, called with map_fn\n",
    "    cls, bbox, roi, labels = data\n",
    "    \n",
    "    # Conver to image coordinates\n",
    "    roi = tf.cast(roi, tf.float32)\n",
    "    x, y = frcnn.backbone.feature_coords_to_image_coords(roi[:, 0], roi[:, 1])\n",
    "    w, h = frcnn.backbone.feature_coords_to_image_coords(roi[:, 2], roi[:, 3])\n",
    "    roi = tf.stack([x, y, w, h], axis=0)\n",
    "    \n",
    "    def _calc_IoU(sf):\n",
    "        return geometry.calculate_IoU(sf, roi) \n",
    "    \n",
    "    # Build a (nstarfish, nroi) tensor of all the IoU values\n",
    "    IoUs = tf.map_fn(_calc_IoU, labels)\n",
    "    \n",
    "    # For each starfish, grab the highest IoU roi or set to -1 if the IoUs are all zero\n",
    "    # Returns [n_roi,] tensor containing the index of the starfish if it is a + match\n",
    "    match = tf.where(tf.math.count_nonzero(IoUs, axis=0) > 0, tf.math.argmax(IoUs, axis=0), -1)\n",
    "    \n",
    "    # First the regularization term, turned down to match what's in the RPN\n",
    "    # This regularization is on the outputs of the classifier network, not weights\n",
    "    # which is done implicitly by the SGDW optimizer\n",
    "    print('Regularization loss')\n",
    "    loss = tf.nn.l2_loss(cls) / (100.0 * tf.size(cls, out_type=tf.float32))\n",
    "    print(loss)\n",
    "    loss += tf.nn.l2_loss(bbox) / (10.0 * tf.size(bbox, out_type=tf.float32))\n",
    "    print(loss)\n",
    "    \n",
    "    for i in tf.range(frcnn.classmodel.n_proposals, dtype=tf.int64):\n",
    "\n",
    "        # Classification score\n",
    "        cls_select = tf.nn.softmax(cls[i :: frcnn.classmodel.n_proposals])\n",
    "\n",
    "        # Found a real starfish\n",
    "        if match[i] > 0:\n",
    "            print('Positive match')\n",
    "            truth_box = labels[match[i],:]\n",
    "            t_x_star = (truth_box[0] - roi[0,i]) / roi[2,i]\n",
    "            t_y_star = (truth_box[1] - roi[1,i]) / roi[3,i]\n",
    "            t_w_star = geometry.safe_log(truth_box[2] / roi[2,i])\n",
    "            t_h_star = geometry.safe_log(truth_box[3] / roi[3,i])\n",
    "            loss += frcnn.classmodel.bbox_reg_l1(\n",
    "            [t_x_star, t_y_star, t_w_star, t_h_star],\n",
    "            bbox[i :: frcnn.classmodel.n_proposals],\n",
    "            )\n",
    "            print('bounding box loss')\n",
    "            print(loss)\n",
    "            loss += frcnn.classmodel.class_loss(cls_select, tf.constant([0.0, 1.0]))\n",
    "            print('classification loss')\n",
    "            print(loss)\n",
    "        else:\n",
    "            print('negative match')\n",
    "            loss += frcnn.classmodel.negative_weight * frcnn.classmodel.class_loss(cls_select, tf.constant([1.0, 0.0]))\n",
    "            print('classification loss')\n",
    "            print(loss)\n",
    "            \n",
    "    return loss"
   ]
  },
  {
   "cell_type": "code",
   "execution_count": null,
   "metadata": {},
   "outputs": [],
   "source": [
    "loss = tf.reduce_sum(\n",
    "    tf.map_fn(\n",
    "        _compute_loss,\n",
    "        [cls, bbox, roi, frcnn.data_loader_full.decode_label(train_labels)],\n",
    "        fn_output_signature=(tf.float32),\n",
    "        )\n",
    ")\n",
    "print(loss)"
   ]
  },
  {
   "cell_type": "code",
   "execution_count": null,
   "metadata": {},
   "outputs": [],
   "source": []
  }
 ],
 "metadata": {
  "accelerator": "GPU",
  "colab": {
   "collapsed_sections": [],
   "name": "tensorflow-runtime",
   "provenance": [
    {
     "file_id": "https://github.com/ngoecknerwald/tensorflow-experiment/blob/master/kaggle_download.ipynb",
     "timestamp": 1640149856884
    }
   ]
  },
  "kernelspec": {
   "display_name": "Python 3 (ipykernel)",
   "language": "python",
   "name": "python3"
  },
  "language_info": {
   "codemirror_mode": {
    "name": "ipython",
    "version": 3
   },
   "file_extension": ".py",
   "mimetype": "text/x-python",
   "name": "python",
   "nbconvert_exporter": "python",
   "pygments_lexer": "ipython3",
   "version": "3.8.9"
  }
 },
 "nbformat": 4,
 "nbformat_minor": 1
}
